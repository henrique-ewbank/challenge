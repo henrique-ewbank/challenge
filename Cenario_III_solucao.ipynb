{
 "cells": [
  {
   "cell_type": "markdown",
   "metadata": {},
   "source": [
    "# Cenário 3 - Solução"
   ]
  },
  {
   "cell_type": "code",
   "execution_count": 10,
   "metadata": {},
   "outputs": [],
   "source": [
    "#Instalando pacote python-tsp e suas dependências\n",
    "#!pip install ruamel.yaml\n",
    "#!pip install python-tsp"
   ]
  },
  {
   "cell_type": "code",
   "execution_count": 23,
   "metadata": {},
   "outputs": [],
   "source": [
    "import numpy as np\n",
    "import pandas as pd\n",
    "from python_tsp.exact import solve_tsp_dynamic_programming\n",
    "from python_tsp.heuristics import solve_tsp_local_search, solve_tsp_simulated_annealing"
   ]
  },
  {
   "cell_type": "code",
   "execution_count": 50,
   "metadata": {},
   "outputs": [],
   "source": [
    "dist = pd.read_csv('states_line.csv')\n",
    "distance_matrix = np.array(dist)"
   ]
  },
  {
   "cell_type": "code",
   "execution_count": 61,
   "metadata": {},
   "outputs": [
    {
     "data": {
      "text/plain": [
       "{0: 'São Paulo',\n",
       " 1: 'Rio de Janeiro',\n",
       " 2: 'Minas Gerais',\n",
       " 3: 'Rio Grande do Sul',\n",
       " 4: 'Pernambuco',\n",
       " 5: 'Ceará',\n",
       " 6: 'Bahia',\n",
       " 7: 'Paraná',\n",
       " 8: 'Pará',\n",
       " 9: 'Goiás',\n",
       " 10: 'Amazonas',\n",
       " 11: 'Espírito Santo',\n",
       " 12: 'Alagoas',\n",
       " 13: 'Rio Grande do Norte',\n",
       " 14: 'Maranhão',\n",
       " 15: 'Santa Catarina',\n",
       " 16: 'Paraíba',\n",
       " 17: 'Piauí',\n",
       " 18: 'Mato Grosso',\n",
       " 19: 'Mato Grosso do Sul',\n",
       " 20: 'Sergipe',\n",
       " 21: 'Amapá',\n",
       " 22: 'Rondônia',\n",
       " 23: 'Acre',\n",
       " 24: 'Tocantins',\n",
       " 25: 'Roraima'}"
      ]
     },
     "execution_count": 61,
     "metadata": {},
     "output_type": "execute_result"
    }
   ],
   "source": [
    "I = J = list(range(0,len(dist)))\n",
    "indice_cidade = dict(zip(I, list(dist)))\n",
    "indice_cidade"
   ]
  },
  {
   "cell_type": "code",
   "execution_count": 62,
   "metadata": {},
   "outputs": [
    {
     "data": {
      "text/plain": [
       "{'São Paulo': 0,\n",
       " 'Rio de Janeiro': 1,\n",
       " 'Minas Gerais': 2,\n",
       " 'Rio Grande do Sul': 3,\n",
       " 'Pernambuco': 4,\n",
       " 'Ceará': 5,\n",
       " 'Bahia': 6,\n",
       " 'Paraná': 7,\n",
       " 'Pará': 8,\n",
       " 'Goiás': 9,\n",
       " 'Amazonas': 10,\n",
       " 'Espírito Santo': 11,\n",
       " 'Alagoas': 12,\n",
       " 'Rio Grande do Norte': 13,\n",
       " 'Maranhão': 14,\n",
       " 'Santa Catarina': 15,\n",
       " 'Paraíba': 16,\n",
       " 'Piauí': 17,\n",
       " 'Mato Grosso': 18,\n",
       " 'Mato Grosso do Sul': 19,\n",
       " 'Sergipe': 20,\n",
       " 'Amapá': 21,\n",
       " 'Rondônia': 22,\n",
       " 'Acre': 23,\n",
       " 'Tocantins': 24,\n",
       " 'Roraima': 25}"
      ]
     },
     "execution_count": 62,
     "metadata": {},
     "output_type": "execute_result"
    }
   ],
   "source": [
    "cidade_indice = dict(zip(list(dist), I))\n",
    "cidade_indice"
   ]
  },
  {
   "cell_type": "code",
   "execution_count": 90,
   "metadata": {},
   "outputs": [],
   "source": [
    "def trajeto(path):\n",
    "    resultado = []\n",
    "    for i in range(len(path)):\n",
    "        resultado.append(indice_cidade[path[i]])\n",
    "    print(' - '.join(resultado))"
   ]
  },
  {
   "cell_type": "code",
   "execution_count": 130,
   "metadata": {},
   "outputs": [
    {
     "data": {
      "text/plain": [
       "13872.340531348886"
      ]
     },
     "execution_count": 130,
     "metadata": {},
     "output_type": "execute_result"
    }
   ],
   "source": [
    "distance_path(best_permutation4, distance_matrix)"
   ]
  },
  {
   "cell_type": "code",
   "execution_count": 116,
   "metadata": {},
   "outputs": [
    {
     "data": {
      "text/plain": [
       "array([[   0.        ,  354.55732115,  492.56174503,  852.76370214,\n",
       "        2126.95126836, 2366.8056443 , 1457.53258522,  342.44351998,\n",
       "        2467.26585474,  810.25817419, 2692.10033492,  739.07808174,\n",
       "        1934.89669267, 2323.03881747, 2354.31208121,  485.99755084,\n",
       "        2219.37477211, 2094.67547718, 1330.50766534,  893.52559787,\n",
       "        1731.08770134, 2667.276248  , 2468.53394085, 2708.55927003,\n",
       "        1492.16277812, 3304.5366034 ],\n",
       "       [ 354.55732115,    0.        ,  342.33792618, 1121.07227566,\n",
       "        1875.03546839, 2190.64708074, 1215.46568709,  677.79262255,\n",
       "        2455.14675041,  938.00332805, 2850.95720089,  413.60473392,\n",
       "        1681.33370237, 2090.56337517, 2272.86347434,  742.65758349,\n",
       "        1973.85522655, 1983.80373316, 1577.60525597, 1208.75838248,\n",
       "        1486.30061033, 2690.28614549, 2710.24298699, 2984.08745427,\n",
       "        1510.38818172, 3431.91957081],\n",
       "       [ 492.56174503,  342.33792618,    0.        , 1344.56791725,\n",
       "        1635.08651474, 1888.83450468,  965.60035975,  826.01374755,\n",
       "        2113.03248254,  670.44092227, 2558.52048959,  373.43891684,\n",
       "        1443.49406687, 1830.75644792, 1935.66347682,  972.70942409,\n",
       "        1726.94086984, 1652.99791773, 1376.31362813, 1118.63296667,\n",
       "        1238.95622457, 2351.04534716, 2482.00257145, 2790.49516326,\n",
       "        1174.12356309, 3120.76914849],\n",
       "       [ 852.76370214, 1121.07227566, 1344.56791725,    0.        ,\n",
       "        2975.53140635, 3212.50374756, 2306.96010678,  547.21239476,\n",
       "        3194.12809318, 1495.23965387, 3137.70011979, 1534.30923438,\n",
       "        2782.66806097, 3175.3077499 , 3148.68605163,  379.04591702,\n",
       "        3069.61961368, 2912.95130706, 1686.1184393 , 1121.55466877,\n",
       "        2580.66259254, 3346.16478703, 2712.81961504, 2820.36945123,\n",
       "        2224.31060793, 3791.70272578],\n",
       "       [2126.95126836, 1875.03546839, 1635.08651474, 2975.53140635,\n",
       "           0.        ,  629.10853908,  669.48885595, 2460.03342371,\n",
       "        1673.66352762, 1833.17256652, 2830.39471415, 1483.21711301,\n",
       "         193.70238969,  257.83903501, 1205.82001205, 2598.93965112,\n",
       "         108.48092598,  929.97549227, 2448.54626502, 2526.11220573,\n",
       "         396.44542392, 2003.18740801, 3189.35545094, 3617.16640476,\n",
       "        1487.81979709, 3103.05146319],\n",
       "       [2366.8056443 , 2190.64708074, 1888.83450468, 3212.50374756,\n",
       "         629.10853908,    0.        , 1025.59796971, 2669.62093466,\n",
       "        1129.32296696, 1857.83159829, 2379.3231283 , 1853.65212169,\n",
       "         724.80560747,  433.62970419,  646.23903577, 2852.80319309,\n",
       "         554.16656743,  489.19976225, 2323.30188881, 2543.01511092,\n",
       "         811.41832206, 1448.51451296, 2853.1296867 , 3298.00999762,\n",
       "        1291.54712429, 2561.5167806 ],\n",
       "       [1457.53258522, 1215.46568709,  965.60035975, 2306.96010678,\n",
       "         669.48885595, 1025.59796971,    0.        , 1790.79441806,\n",
       "        1689.75398076, 1235.50973128, 2608.99657823,  842.27270778,\n",
       "         478.32085702,  875.12195813, 1325.7335497 , 1931.18394784,\n",
       "         762.76020751,  994.98880688, 1919.03930632, 1908.00463641,\n",
       "         273.70622663, 2003.2889487 , 2814.71421048, 3211.74092368,\n",
       "        1110.83854764, 3014.18743943],\n",
       "       [ 342.44351998,  677.79262255,  826.01374755,  547.21239476,\n",
       "        2460.03342371, 2669.62093466, 1790.79441806,    0.        ,\n",
       "        2667.70083574,  967.70176943, 2732.90529711, 1078.07935432,\n",
       "        2269.01114353, 2649.37104833, 2604.45426987,  253.10771157,\n",
       "        2550.30869863, 2365.82366086, 1302.09789609,  774.38013872,\n",
       "        2063.63087373, 2837.23156845, 2412.07410252, 2599.20749668,\n",
       "        1692.23084984, 3370.51183422],\n",
       "       [2467.26585474, 2455.14675041, 2113.03248254, 3194.12809318,\n",
       "        1673.66352762, 1129.32296696, 1689.75398076, 2667.70083574,\n",
       "           0.        , 1700.8505483 , 1293.39716167, 2277.01565574,\n",
       "        1677.73489361, 1546.30398356,  483.20838853, 2906.43866697,\n",
       "        1634.04043858,  751.59630154, 1778.37279236, 2216.03440868,\n",
       "        1636.83465361,  330.01368655, 1890.41266781, 2336.79182292,\n",
       "         977.68527489, 1435.71967748],\n",
       "       [ 810.25817419,  938.00332805,  670.44092227, 1495.23965387,\n",
       "        1833.17256652, 1857.83159829, 1235.50973128,  967.70176943,\n",
       "        1700.8505483 ,    0.        , 1913.74017227, 1023.70294618,\n",
       "        1667.30721428, 1955.74550404, 1673.07450886, 1210.61382372,\n",
       "        1897.8756546 , 1475.50831779,  736.08998996,  697.24404946,\n",
       "        1465.53230709, 1873.2842328 , 1813.73194939, 2136.76711936,\n",
       "         729.28004282, 2506.14005374],\n",
       "       [2692.10033492, 2850.95720089, 2558.52048959, 3137.70011979,\n",
       "        2830.39471415, 2379.3231283 , 2608.99657823, 2732.90529711,\n",
       "        1293.39716167, 1913.74017227,    0.        , 2863.96452268,\n",
       "        2777.52507376, 2761.53569693, 1749.17453905, 2983.59191142,\n",
       "        2818.06400683, 1923.19147201, 1451.75594217, 2016.16238778,\n",
       "        2668.63708293, 1054.28461486,  762.21068573, 1151.25083572,\n",
       "        1517.31366304,  662.19967584],\n",
       "       [ 739.07808174,  413.60473392,  373.43891684, 1534.30923438,\n",
       "        1483.21711301, 1853.65212169,  842.27270778, 1078.07935432,\n",
       "        2277.01565574, 1023.70294618, 2863.96452268,    0.        ,\n",
       "        1290.27550628, 1709.85647133, 2025.50103748, 1156.17774203,\n",
       "        1585.32839329, 1713.91433907, 1744.31708843, 1485.401819  ,\n",
       "        1104.24820738, 2545.49590071, 2836.50176954, 3156.35794014,\n",
       "        1406.68664833, 3395.72792156],\n",
       "       [1934.89669267, 1681.33370237, 1443.49406687, 2782.66806097,\n",
       "         193.70238969,  724.80560747,  478.32085702, 2269.01114353,\n",
       "        1677.73489361, 1667.30721428, 2777.52507376, 1290.27550628,\n",
       "           0.        ,  430.52263137, 1230.68120275, 2405.81163896,\n",
       "         295.51286968,  926.18679141, 2304.94112845, 2355.80263741,\n",
       "         208.36277213, 2007.29081724, 3093.83761756, 3513.99616505,\n",
       "        1377.50656721, 3090.04350215],\n",
       "       [2323.03881747, 2090.56337517, 1830.75644792, 3175.3077499 ,\n",
       "         257.83903501,  433.62970419,  875.12195813, 2649.37104833,\n",
       "        1546.30398356, 1955.74550404, 2761.53569693, 1709.85647133,\n",
       "         430.52263137,    0.        , 1064.98118615, 2801.83773485,\n",
       "         152.35061256,  838.35799367, 2522.11581478, 2652.97187459,\n",
       "         605.89109987, 1870.84179634, 3178.55465394, 3615.83086507,\n",
       "        1519.85722732, 2981.947243  ],\n",
       "       [2354.31208121, 2272.86347434, 1935.66347682, 3148.68605163,\n",
       "        1205.82001205,  646.23903577, 1325.7335497 , 2604.45426987,\n",
       "         483.20838853, 1673.07450886, 1749.17453905, 2025.50103748,\n",
       "        1230.68120275, 1064.98118615,    0.        , 2824.3419275 ,\n",
       "        1158.73877405,  330.884607  , 1945.68678596, 2289.17195759,\n",
       "        1221.32916428,  805.86629769, 2280.12393508, 2728.92035948,\n",
       "         966.9629523 , 1917.52949017],\n",
       "       [ 485.99755084,  742.65758349,  972.70942409,  379.04591702,\n",
       "        2598.93965112, 2852.80319309, 1931.18394784,  253.10771157,\n",
       "        2906.43866697, 1210.61382372, 2983.59191142, 1156.17774203,\n",
       "        2405.81163896, 2801.83773485, 2824.3419275 ,    0.        ,\n",
       "        2693.93618697, 2573.76700385, 1547.11136827, 1005.87981655,\n",
       "        2204.78549121, 3083.24797988, 2644.93675656, 2812.96785455,\n",
       "        1929.13427591, 3622.80210913],\n",
       "       [2219.37477211, 1973.85522655, 1726.94086984, 3069.61961368,\n",
       "         108.48092598,  554.16656743,  762.76020751, 2550.30869863,\n",
       "        1634.04043858, 1897.8756546 , 2818.06400683, 1585.32839329,\n",
       "         295.51286968,  152.35061256, 1158.73877405, 2693.93618697,\n",
       "           0.        ,  902.15179641, 2494.81635578, 2593.36401303,\n",
       "         489.17795227, 1962.0284191 , 3201.9598236 , 3634.03922048,\n",
       "        1515.17655228, 3068.11417541],\n",
       "       [2094.67547718, 1983.80373316, 1652.99791773, 2912.95130706,\n",
       "         929.97549227,  489.19976225,  994.98880688, 2365.82366086,\n",
       "         751.59630154, 1475.50831779, 1923.19147201, 1713.91433907,\n",
       "         926.18679141,  838.35799367,  330.884607  , 2573.76700385,\n",
       "         902.15179641,    0.        , 1862.87570959, 2134.01037801,\n",
       "         897.34654715, 1081.33376805, 2366.62062148, 2810.43644464,\n",
       "         834.01490742, 2173.56105417],\n",
       "       [1330.50766534, 1577.60525597, 1376.31362813, 1686.1184393 ,\n",
       "        2448.54626502, 2323.30188881, 1919.03930632, 1302.09789609,\n",
       "        1778.37279236,  736.08998996, 1451.75594217, 1744.31708843,\n",
       "        2304.94112845, 2522.11581478, 1945.68678596, 1547.11136827,\n",
       "        2494.81635578, 1862.87570959,    0.        ,  564.61411272,\n",
       "        2116.99078757, 1821.47548688, 1138.61977627, 1414.80244039,\n",
       "        1032.34792718, 2106.25846414],\n",
       "       [ 893.52559787, 1208.75838248, 1118.63296667, 1121.55466877,\n",
       "        2526.11220573, 2543.01511092, 1908.00463641,  774.38013872,\n",
       "        2216.03440868,  697.24404946, 2016.16238778, 1485.401819  ,\n",
       "        2355.80263741, 2652.97187459, 2289.17195759, 1005.87981655,\n",
       "        2593.36401303, 2134.01037801,  564.61411272,    0.        ,\n",
       "        2151.11106728, 2311.1456081 , 1639.44728362, 1831.55087385,\n",
       "        1322.73071608, 2670.7152659 ],\n",
       "       [1731.08770134, 1486.30061033, 1238.95622457, 2580.66259254,\n",
       "         396.44542392,  811.41832206,  273.70622663, 2063.63087373,\n",
       "        1636.83465361, 1465.53230709, 2668.63708293, 1104.24820738,\n",
       "         208.36277213,  605.89109987, 1221.32916428, 2204.78549121,\n",
       "         489.17795227,  897.34654715, 2116.99078757, 2151.11106728,\n",
       "           0.        , 1962.27403165, 2943.79388308, 3356.32263152,\n",
       "        1223.26643266, 3019.77680287],\n",
       "       [2667.276248  , 2690.28614549, 2351.04534716, 3346.16478703,\n",
       "        2003.18740801, 1448.51451296, 2003.2889487 , 2837.23156845,\n",
       "         330.01368655, 1873.2842328 , 1054.28461486, 2545.49590071,\n",
       "        2007.29081724, 1870.84179634,  805.86629769, 3083.24797988,\n",
       "        1962.0284191 , 1081.33376805, 1821.47548688, 2311.1456081 ,\n",
       "        1962.27403165,    0.        , 1726.67407535, 2161.73159639,\n",
       "        1182.57716148, 1113.06335926],\n",
       "       [2468.53394085, 2710.24298699, 2482.00257145, 2712.81961504,\n",
       "        3189.35545094, 2853.1296867 , 2814.71421048, 2412.07410252,\n",
       "        1890.41266781, 1813.73194939,  762.21068573, 2836.50176954,\n",
       "        3093.83761756, 3178.55465394, 2280.12393508, 2644.93675656,\n",
       "        3201.9598236 , 2366.62062148, 1138.61977627, 1639.44728362,\n",
       "        2943.79388308, 1726.67407535,    0.        ,  448.89458587,\n",
       "        1720.53613234, 1335.54408947],\n",
       "       [2708.55927003, 2984.08745427, 2790.49516326, 2820.36945123,\n",
       "        3617.16640476, 3298.00999762, 3211.74092368, 2599.20749668,\n",
       "        2336.79182292, 2136.76711936, 1151.25083572, 3156.35794014,\n",
       "        3513.99616505, 3615.83086507, 2728.92035948, 2812.96785455,\n",
       "        3634.03922048, 2810.43644464, 1414.80244039, 1831.55087385,\n",
       "        3356.32263152, 2161.73159639,  448.89458587,    0.        ,\n",
       "        2136.58046625, 1626.69677336],\n",
       "       [1492.16277812, 1510.38818172, 1174.12356309, 2224.31060793,\n",
       "        1487.81979709, 1291.54712429, 1110.83854764, 1692.23084984,\n",
       "         977.68527489,  729.28004282, 1517.31366304, 1406.68664833,\n",
       "        1377.50656721, 1519.85722732,  966.9629523 , 1929.13427591,\n",
       "        1515.17655228,  834.01490742, 1032.34792718, 1322.73071608,\n",
       "        1223.26643266, 1182.57716148, 1720.53613234, 2136.58046625,\n",
       "           0.        , 1996.90165269],\n",
       "       [3304.5366034 , 3431.91957081, 3120.76914849, 3791.70272578,\n",
       "        3103.05146319, 2561.5167806 , 3014.18743943, 3370.51183422,\n",
       "        1435.71967748, 2506.14005374,  662.19967584, 3395.72792156,\n",
       "        3090.04350215, 2981.947243  , 1917.52949017, 3622.80210913,\n",
       "        3068.11417541, 2173.56105417, 2106.25846414, 2670.7152659 ,\n",
       "        3019.77680287, 1113.06335926, 1335.54408947, 1626.69677336,\n",
       "        1996.90165269,    0.        ]])"
      ]
     },
     "execution_count": 116,
     "metadata": {},
     "output_type": "execute_result"
    }
   ],
   "source": [
    "distance_matrix"
   ]
  },
  {
   "cell_type": "markdown",
   "metadata": {},
   "source": [
    "## Solução Exata com programação dinâmica"
   ]
  },
  {
   "cell_type": "code",
   "execution_count": null,
   "metadata": {},
   "outputs": [],
   "source": [
    "#Demora muito para rodar, por conta das milhões de restrições demonstradas no arquivo de formulação\n",
    "permutation, distance = solve_tsp_dynamic_programming(distance_matrix)\n",
    "print(permutation)\n",
    "distance"
   ]
  },
  {
   "cell_type": "code",
   "execution_count": null,
   "metadata": {},
   "outputs": [],
   "source": [
    "#Solução com Busca Local, uma permutação inicial aleatória, e esquema 2-opt\n",
    "best_distance = 1000000\n",
    "best_permutation = []\n",
    "for i in range(1000):\n",
    "    permutation, distance = solve_tsp_local_search(\n",
    "        distance_matrix,\n",
    "        x0=None,\n",
    "        perturbation_scheme=\"two_opt\",\n",
    "        max_processing_time=None,\n",
    "        log_file=None,\n",
    "    )\n",
    "    if distance < best_distance:\n",
    "        best_distance = distance\n",
    "        best_permutation = permutation"
   ]
  },
  {
   "cell_type": "code",
   "execution_count": 121,
   "metadata": {},
   "outputs": [
    {
     "name": "stdout",
     "output_type": "stream",
     "text": [
      "São Paulo - Paraná - Santa Catarina - Rio Grande do Sul - Mato Grosso do Sul - Mato Grosso - Acre - Rondônia - Amazonas - Roraima - Amapá - Pará - Maranhão - Piauí - Ceará - Rio Grande do Norte - Paraíba - Pernambuco - Alagoas - Sergipe - Bahia - Tocantins - Goiás - Minas Gerais - Espírito Santo - Rio de Janeiro\n"
     ]
    }
   ],
   "source": [
    "trajeto(best_permutation)"
   ]
  },
  {
   "cell_type": "code",
   "execution_count": 136,
   "metadata": {},
   "outputs": [
    {
     "name": "stdout",
     "output_type": "stream",
     "text": [
      "[0, 7, 15, 3, 19, 18, 23, 22, 10, 25, 21, 8, 14, 17, 5, 13, 16, 4, 12, 20, 6, 24, 9, 2, 11, 1]\n"
     ]
    },
    {
     "data": {
      "text/plain": [
       "13717.636237310258"
      ]
     },
     "execution_count": 136,
     "metadata": {},
     "output_type": "execute_result"
    }
   ],
   "source": [
    "print(best_permutation)\n",
    "best_distance"
   ]
  },
  {
   "cell_type": "markdown",
   "metadata": {},
   "source": [
    "## Simulated Annealing com Busca Local"
   ]
  },
  {
   "cell_type": "code",
   "execution_count": null,
   "metadata": {},
   "outputs": [],
   "source": [
    "best_distance2 = 1000000\n",
    "best_permutation2 = []\n",
    "for i in range(100):\n",
    "    permutation2, distance2 = solve_tsp_simulated_annealing(distance_matrix)\n",
    "    if distance2 < best_distance2:\n",
    "        best_distance2 = distance2\n",
    "        best_permutation2 = permutation2"
   ]
  },
  {
   "cell_type": "code",
   "execution_count": 131,
   "metadata": {},
   "outputs": [
    {
     "name": "stdout",
     "output_type": "stream",
     "text": [
      "São Paulo - Paraná - Santa Catarina - Rio Grande do Sul - Mato Grosso do Sul - Mato Grosso - Acre - Rondônia - Amazonas - Roraima - Amapá - Pará - Maranhão - Piauí - Ceará - Rio Grande do Norte - Paraíba - Pernambuco - Alagoas - Sergipe - Bahia - Tocantins - Goiás - Minas Gerais - Espírito Santo - Rio de Janeiro\n",
      "None\n"
     ]
    },
    {
     "data": {
      "text/plain": [
       "13962.824715346218"
      ]
     },
     "execution_count": 131,
     "metadata": {},
     "output_type": "execute_result"
    }
   ],
   "source": [
    "print(trajeto(best_permutation2))\n",
    "distance2"
   ]
  },
  {
   "cell_type": "code",
   "execution_count": null,
   "metadata": {},
   "outputs": [],
   "source": [
    "best_distance3 = 1000000\n",
    "best_permutation3 = []\n",
    "for i in range(1000):\n",
    "    permutation3, distance3 = solve_tsp_local_search(distance_matrix, x0=permutation2)\n",
    "    if distance3 < best_distance3:\n",
    "        best_distance3 = distance3\n",
    "        best_permutation3 = permutation3"
   ]
  },
  {
   "cell_type": "code",
   "execution_count": 133,
   "metadata": {},
   "outputs": [
    {
     "name": "stdout",
     "output_type": "stream",
     "text": [
      "São Paulo - Santa Catarina - Rio Grande do Sul - Paraná - Mato Grosso do Sul - Goiás - Tocantins - Mato Grosso - Acre - Rondônia - Amazonas - Roraima - Amapá - Pará - Maranhão - Piauí - Ceará - Rio Grande do Norte - Paraíba - Pernambuco - Alagoas - Sergipe - Bahia - Espírito Santo - Minas Gerais - Rio de Janeiro\n",
      "None\n"
     ]
    },
    {
     "data": {
      "text/plain": [
       "13962.824715346218"
      ]
     },
     "execution_count": 133,
     "metadata": {},
     "output_type": "execute_result"
    }
   ],
   "source": [
    "print(trajeto(best_permutation3))\n",
    "distance3"
   ]
  },
  {
   "cell_type": "code",
   "execution_count": null,
   "metadata": {},
   "outputs": [],
   "source": [
    "best_distance4 = 1000000\n",
    "best_permutation4 = []\n",
    "for i in range(1000):\n",
    "    permutation4, distance4 = solve_tsp_local_search(\n",
    "        distance_matrix, x0=permutation2, perturbation_scheme=\"ps3\"\n",
    "    )\n",
    "    if distance4 < best_distance4:\n",
    "        best_distance4 = distance4\n",
    "        best_permutation4 = permutation4"
   ]
  },
  {
   "cell_type": "code",
   "execution_count": 134,
   "metadata": {},
   "outputs": [
    {
     "name": "stdout",
     "output_type": "stream",
     "text": [
      "São Paulo - Paraná - Santa Catarina - Rio Grande do Sul - Mato Grosso do Sul - Goiás - Tocantins - Mato Grosso - Acre - Rondônia - Amazonas - Roraima - Amapá - Pará - Maranhão - Piauí - Ceará - Rio Grande do Norte - Paraíba - Pernambuco - Alagoas - Sergipe - Bahia - Espírito Santo - Minas Gerais - Rio de Janeiro\n",
      "None\n"
     ]
    },
    {
     "data": {
      "text/plain": [
       "13872.340531348887"
      ]
     },
     "execution_count": 134,
     "metadata": {},
     "output_type": "execute_result"
    }
   ],
   "source": [
    "print(trajeto(best_permutation4))\n",
    "distance4"
   ]
  },
  {
   "cell_type": "code",
   "execution_count": 117,
   "metadata": {},
   "outputs": [],
   "source": [
    "### Restrição de subciclos. Evitando ciclos com tamanho inferior a 26.\n",
    "### path é uma tupla. um subset retornado por itertools.combinations\n",
    "def distance_path(path, distance_matrix):\n",
    "    distance_matrix = pd.DataFrame(distance_matrix)\n",
    "    distancia = 0\n",
    "    for i in range(len(path)-1):\n",
    "        distancia = distancia + distance_matrix.iloc[path[i], path[i+1]]\n",
    "    distancia = distancia + distance_matrix.iloc[path[i+1], 0]\n",
    "    return(distancia)"
   ]
  },
  {
   "cell_type": "markdown",
   "metadata": {},
   "source": [
    "## Melhor solução encontrada"
   ]
  },
  {
   "cell_type": "code",
   "execution_count": 137,
   "metadata": {},
   "outputs": [
    {
     "name": "stdout",
     "output_type": "stream",
     "text": [
      "São Paulo - Paraná - Santa Catarina - Rio Grande do Sul - Mato Grosso do Sul - Mato Grosso - Acre - Rondônia - Amazonas - Roraima - Amapá - Pará - Maranhão - Piauí - Ceará - Rio Grande do Norte - Paraíba - Pernambuco - Alagoas - Sergipe - Bahia - Tocantins - Goiás - Minas Gerais - Espírito Santo - Rio de Janeiro\n"
     ]
    },
    {
     "data": {
      "text/plain": [
       "13717.636237310258"
      ]
     },
     "execution_count": 137,
     "metadata": {},
     "output_type": "execute_result"
    }
   ],
   "source": [
    "trajeto(best_permutation)\n",
    "best_distance"
   ]
  },
  {
   "cell_type": "markdown",
   "metadata": {},
   "source": [
    "## Outras tentativas\n",
    "\n",
    "Como Busca Local e Simulated Annealing oferecem diferentes soluções, dependendo da solução inicial, foram realizadas 1000 repetições e foi guardada a melhor solução.\n",
    "Entretanto, (meta)heurísticas não garantem a solução ótima.\n",
    "\n",
    "Futuras implementações envolveriam combinação de heurísticas, para bolar uma solução inicial melhor.\n",
    "\n",
    "Métodos que poderiam ser utilizados:\n",
    "- Busca Tabu\n",
    "- Algoritmo Genético + Busca Local\n",
    "- Colônia de Formigas + Busca Local"
   ]
  }
 ],
 "metadata": {
  "kernelspec": {
   "display_name": "Python 3",
   "language": "python",
   "name": "python3"
  },
  "language_info": {
   "codemirror_mode": {
    "name": "ipython",
    "version": 3
   },
   "file_extension": ".py",
   "mimetype": "text/x-python",
   "name": "python",
   "nbconvert_exporter": "python",
   "pygments_lexer": "ipython3",
   "version": "3.8.3"
  }
 },
 "nbformat": 4,
 "nbformat_minor": 4
}
